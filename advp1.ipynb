{
 "cells": [
  {
   "cell_type": "code",
   "execution_count": 4,
   "metadata": {},
   "outputs": [],
   "source": [
    "class Student:\n",
    "    def __init__(self,rollno,name):\n",
    "        self.rollno=rollno\n",
    "        self.name=name\n",
    "        \n",
    "    def talk(self):\n",
    "        print(\"hello my name is:\",self.name)\n",
    "        print(\"my rollno is:\",self.rollno)\n",
    "        \n",
    "\n",
    "    \n"
   ]
  },
  {
   "cell_type": "code",
   "execution_count": 5,
   "metadata": {},
   "outputs": [
    {
     "name": "stdout",
     "output_type": "stream",
     "text": [
      "sunny\n",
      "100\n",
      "hello my name is: sunny\n",
      "my rollno is: 100\n"
     ]
    }
   ],
   "source": [
    "s = Student(100,'sunny')\n",
    "print(s.name)\n",
    "print(s.rollno)        \n",
    "s.talk()"
   ]
  },
  {
   "cell_type": "code",
   "execution_count": 9,
   "metadata": {},
   "outputs": [
    {
     "name": "stdout",
     "output_type": "stream",
     "text": [
      "hello my name is: nami\n",
      "my rollno is: 200\n"
     ]
    }
   ],
   "source": [
    "s1 = Student(200,'nami')\n",
    "s1.talk()"
   ]
  },
  {
   "cell_type": "code",
   "execution_count": null,
   "metadata": {},
   "outputs": [],
   "source": []
  },
  {
   "cell_type": "code",
   "execution_count": 19,
   "metadata": {},
   "outputs": [],
   "source": [
    "class Emp:\n",
    "    '''this is demo'''\n",
    "    def __init__(self,eno,ename,esal,eadd):\n",
    "        self.eno = eno\n",
    "        self.ename = ename\n",
    "        self.esal = esal\n",
    "        self.eadd = eadd\n",
    "        \n",
    "    def info(self):\n",
    "        print('*'*20)\n",
    "        print(\"my roll number is:\",self.eno)\n",
    "        print(\"my name is :\",self.ename)\n",
    "        print(\"my sal is:\",self.esal)\n",
    "        print(\"my add is:\",self.eadd)\n",
    "        print('*'*20)"
   ]
  },
  {
   "cell_type": "code",
   "execution_count": 20,
   "metadata": {},
   "outputs": [
    {
     "name": "stdout",
     "output_type": "stream",
     "text": [
      "********************\n",
      "my roll number is: 100\n",
      "my name is : sunil\n",
      "my sal is: 10000\n",
      "my add is: hyd\n",
      "********************\n"
     ]
    }
   ],
   "source": [
    "e = Emp(100,'sunil',10000,'hyd')\n",
    "e.info()"
   ]
  },
  {
   "cell_type": "code",
   "execution_count": null,
   "metadata": {},
   "outputs": [],
   "source": []
  },
  {
   "cell_type": "code",
   "execution_count": null,
   "metadata": {},
   "outputs": [],
   "source": []
  }
 ],
 "metadata": {
  "kernelspec": {
   "display_name": "Python 3",
   "language": "python",
   "name": "python3"
  },
  "language_info": {
   "codemirror_mode": {
    "name": "ipython",
    "version": 3
   },
   "file_extension": ".py",
   "mimetype": "text/x-python",
   "name": "python",
   "nbconvert_exporter": "python",
   "pygments_lexer": "ipython3",
   "version": "3.7.6"
  }
 },
 "nbformat": 4,
 "nbformat_minor": 4
}
