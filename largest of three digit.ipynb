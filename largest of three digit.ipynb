{
 "cells": [
  {
   "cell_type": "code",
   "execution_count": 8,
   "metadata": {},
   "outputs": [
    {
     "name": "stdout",
     "output_type": "stream",
     "text": [
      "\n",
      "Enter first digit5\n",
      "\n",
      " Enter second digit6\n",
      "\n",
      "Enter third digit2\n",
      "\n",
      " b is largest\n"
     ]
    }
   ],
   "source": [
    "a = int(input(\"\\nEnter first digit\"))\n",
    "b = int(input(\"\\n Enter second digit\"))\n",
    "c = int(input(\"\\nEnter third digit\"))\n",
    "if a>b and a>c:\n",
    "    print(\"\\n a is largest number\")\n",
    "else:\n",
    "    if b>a and b>c:\n",
    "        print(\"\\n b is largest\")\n",
    "    else:\n",
    "        print(\"\\n c is largest number\")"
   ]
  },
  {
   "cell_type": "code",
   "execution_count": null,
   "metadata": {},
   "outputs": [],
   "source": []
  },
  {
   "cell_type": "code",
   "execution_count": null,
   "metadata": {},
   "outputs": [],
   "source": []
  }
 ],
 "metadata": {
  "kernelspec": {
   "display_name": "Python 3",
   "language": "python",
   "name": "python3"
  },
  "language_info": {
   "codemirror_mode": {
    "name": "ipython",
    "version": 3
   },
   "file_extension": ".py",
   "mimetype": "text/x-python",
   "name": "python",
   "nbconvert_exporter": "python",
   "pygments_lexer": "ipython3",
   "version": "3.7.6"
  }
 },
 "nbformat": 4,
 "nbformat_minor": 4
}
