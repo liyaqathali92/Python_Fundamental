{
 "cells": [
  {
   "cell_type": "code",
   "execution_count": 2,
   "metadata": {},
   "outputs": [
    {
     "name": "stdout",
     "output_type": "stream",
     "text": [
      "enter a number:-5\n",
      "entered number is negative\n"
     ]
    }
   ],
   "source": [
    "num = int(input(\"enter a number:\"))\n",
    "if num >= 0:\n",
    "    print(\"entered number is positive\")\n",
    "else:\n",
    "    if num < 0:\n",
    "        print(\"entered number is negative\")"
   ]
  },
  {
   "cell_type": "code",
   "execution_count": 3,
   "metadata": {},
   "outputs": [],
   "source": [
    "#######program to check th given number is odd or even"
   ]
  },
  {
   "cell_type": "code",
   "execution_count": 2,
   "metadata": {},
   "outputs": [
    {
     "name": "stdout",
     "output_type": "stream",
     "text": [
      "Enter a number:4\n",
      "{0} is even\n"
     ]
    }
   ],
   "source": [
    "num = int(input(\"Enter a number:\"))\n",
    "if (num % 2) == 0:\n",
    "    print(\"{0} is even\")\n",
    "else:\n",
    "    print(\"{0} is odd\")"
   ]
  },
  {
   "cell_type": "code",
   "execution_count": 3,
   "metadata": {},
   "outputs": [],
   "source": [
    "######prime numbers between the given numbers"
   ]
  },
  {
   "cell_type": "code",
   "execution_count": 18,
   "metadata": {},
   "outputs": [
    {
     "name": "stdout",
     "output_type": "stream",
     "text": [
      "Enter the lower range:10\n",
      "Enter the upper range:20\n",
      "Prime numbers betweer 10 and 20 are:\n",
      "11\n",
      "13\n",
      "17\n",
      "19\n"
     ]
    }
   ],
   "source": [
    "lower = int(input(\"Enter the lower range:\"))\n",
    "upper = int(input(\"Enter the upper range:\"))\n",
    "print(\"Prime numbers betweer\",lower,\"and\",upper,\"are:\")\n",
    "for num in range (lower,upper + 1):\n",
    "    if num > 1:\n",
    "        for i in range(2,num):\n",
    "            if (num % i)==0:\n",
    "                break\n",
    "        else:\n",
    "            print(num)                "
   ]
  },
  {
   "cell_type": "code",
   "execution_count": null,
   "metadata": {},
   "outputs": [],
   "source": []
  }
 ],
 "metadata": {
  "kernelspec": {
   "display_name": "Python 3",
   "language": "python",
   "name": "python3"
  },
  "language_info": {
   "codemirror_mode": {
    "name": "ipython",
    "version": 3
   },
   "file_extension": ".py",
   "mimetype": "text/x-python",
   "name": "python",
   "nbconvert_exporter": "python",
   "pygments_lexer": "ipython3",
   "version": "3.7.6"
  }
 },
 "nbformat": 4,
 "nbformat_minor": 4
}
